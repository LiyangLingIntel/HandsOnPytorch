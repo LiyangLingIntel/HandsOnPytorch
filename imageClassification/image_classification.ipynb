{
 "cells": [
  {
   "cell_type": "markdown",
   "metadata": {},
   "source": [
    "# Image Classification\n",
    "\n",
    "Dataset is CIFAR-10 from torchvision. That's colored images including 'airplane', 'automobile', 'bird', 'cat', 'deer', 'dog', 'frog', 'horse', 'ship', 'truck' ten classes. Each image is $3*32*32$\n",
    "\n",
    "There 5 steps:\n",
    "1. Using torchvision to loading and preprocessing CIFAR-10 dataset\n",
    "2. Define network\n",
    "3. Define loss function and optimizer\n",
    "4. Train network and update network parameters\n",
    "5. Test network"
   ]
  },
  {
   "cell_type": "code",
   "execution_count": 1,
   "metadata": {
    "ExecuteTime": {
     "end_time": "2019-01-23T10:45:47.402997Z",
     "start_time": "2019-01-23T10:45:47.033630Z"
    }
   },
   "outputs": [],
   "source": [
    "import os\n",
    "\n",
    "import torch as t\n",
    "import torchvision as tv\n",
    "from torchvision import transforms\n",
    "from torchvision.transforms import ToPILImage\n",
    "to_pil = ToPILImage()"
   ]
  },
  {
   "cell_type": "code",
   "execution_count": 2,
   "metadata": {
    "ExecuteTime": {
     "end_time": "2019-01-23T10:45:47.842826Z",
     "start_time": "2019-01-23T10:45:47.840425Z"
    }
   },
   "outputs": [],
   "source": [
    "# os.getcwd()\n",
    "# print(t.__version__)\n",
    "# ! pip install torch torchvision -U"
   ]
  },
  {
   "cell_type": "markdown",
   "metadata": {},
   "source": [
    "## Load and preprocess data"
   ]
  },
  {
   "cell_type": "code",
   "execution_count": 3,
   "metadata": {
    "ExecuteTime": {
     "end_time": "2019-01-23T10:45:50.981075Z",
     "start_time": "2019-01-23T10:45:49.571598Z"
    }
   },
   "outputs": [
    {
     "name": "stdout",
     "output_type": "stream",
     "text": [
      "Files already downloaded and verified\n",
      "Files already downloaded and verified\n"
     ]
    }
   ],
   "source": [
    "# Define data preprocessing\n",
    "transform = transforms.Compose([\n",
    "    transforms.ToTensor(),\n",
    "    transforms.Normalize((0.5, 0.5, 0.5), (0.5, 0.5, 0.5))\n",
    "])\n",
    "\n",
    "# train set\n",
    "trainset = tv.datasets.CIFAR10(\n",
    "    root = './data/',\n",
    "    train = True,\n",
    "    download = True,\n",
    "    transform = transform\n",
    ")\n",
    "\n",
    "# DataLoader returns a iterable object, each unit is based on the batch size, \n",
    "# and multithreads and shuffle are supported. \n",
    "trainloader = t.utils.data.DataLoader(\n",
    "    trainset,\n",
    "    batch_size = 4,\n",
    "    shuffle = True,\n",
    "    num_workers = 4\n",
    ")\n",
    "\n",
    "# test set\n",
    "testset = tv.datasets.CIFAR10(\n",
    "    root = './data/',\n",
    "    train = False,\n",
    "    download = True,\n",
    "    transform = transform\n",
    ")\n",
    "\n",
    "testloader = t.utils.data.DataLoader(\n",
    "    testset,\n",
    "    batch_size = 4,\n",
    "    shuffle = True,\n",
    "    num_workers = 4\n",
    ")"
   ]
  },
  {
   "cell_type": "code",
   "execution_count": 4,
   "metadata": {
    "ExecuteTime": {
     "end_time": "2019-01-23T10:45:51.000943Z",
     "start_time": "2019-01-23T10:45:50.998322Z"
    }
   },
   "outputs": [],
   "source": [
    "classes = ('plane', 'car', 'bird', 'cat',\n",
    "           'deer', 'dog', 'frog', 'horse', 'ship', 'truck')"
   ]
  },
  {
   "cell_type": "code",
   "execution_count": 5,
   "metadata": {
    "ExecuteTime": {
     "end_time": "2019-01-23T10:45:51.417582Z",
     "start_time": "2019-01-23T10:45:51.376844Z"
    }
   },
   "outputs": [
    {
     "name": "stdout",
     "output_type": "stream",
     "text": [
      "car\n"
     ]
    },
    {
     "data": {
      "image/png": "[encoded data removed]",
      "text/plain": [
       "<PIL.Image.Image image mode=RGB size=100x100 at 0x12A0D3240>"
      ]
     },
     "execution_count": 5,
     "metadata": {},
     "output_type": "execute_result"
    }
   ],
   "source": [
    "data, lable = trainset[99]\n",
    "print(classes[lable])\n",
    "\n",
    "# (data+1)/2 to restore normalized picture\n",
    "to_pil((data+1)/2).resize((100, 100))"
   ]
  },
  {
   "cell_type": "code",
   "execution_count": 6,
   "metadata": {
    "ExecuteTime": {
     "end_time": "2019-01-23T10:45:52.048638Z",
     "start_time": "2019-01-23T10:45:51.983430Z"
    }
   },
   "outputs": [
    {
     "name": "stdout",
     "output_type": "stream",
     "text": [
      "horse\t   car\t   frog\t   bird\n"
     ]
    },
    {
     "data": {
      "image/png": "[encoded data removed]",
      "text/plain": [
       "<PIL.Image.Image image mode=RGB size=400x100 at 0x10EA7DEB8>"
      ]
     },
     "execution_count": 6,
     "metadata": {},
     "output_type": "execute_result"
    }
   ],
   "source": [
    "dataiter = iter(trainloader)\n",
    "images, lables = dataiter.next()\n",
    "print('\\t   '.join([classes[lables[i]] for i in range(4)]))   # batch size is 4\n",
    "to_pil(tv.utils.make_grid((images+1)/2)).resize((400, 100))"
   ]
  },
  {
   "cell_type": "markdown",
   "metadata": {},
   "source": [
    "## Define networks"
   ]
  },
  {
   "cell_type": "code",
   "execution_count": 11,
   "metadata": {
    "ExecuteTime": {
     "end_time": "2019-01-23T11:55:18.433708Z",
     "start_time": "2019-01-23T11:55:18.431242Z"
    }
   },
   "outputs": [],
   "source": [
    "from torch import nn \n",
    "from torch.nn import functional as Func\n",
    "from torch import optim"
   ]
  },
  {
   "cell_type": "code",
   "execution_count": 19,
   "metadata": {
    "ExecuteTime": {
     "end_time": "2019-01-23T12:38:59.254366Z",
     "start_time": "2019-01-23T12:38:59.243543Z"
    }
   },
   "outputs": [
    {
     "name": "stdout",
     "output_type": "stream",
     "text": [
      "Net(\n",
      "  (conv1): Conv2d(3, 6, kernel_size=(5, 5), stride=(1, 1))\n",
      "  (conv2): Conv2d(6, 16, kernel_size=(5, 5), stride=(1, 1))\n",
      "  (fc1): Linear(in_features=400, out_features=120, bias=True)\n",
      "  (fc2): Linear(in_features=120, out_features=84, bias=True)\n",
      "  (fc3): Linear(in_features=84, out_features=10, bias=True)\n",
      ")\n"
     ]
    }
   ],
   "source": [
    "class Net(nn.Module):\n",
    "\n",
    "    def __init__(self):\n",
    "        \"\"\"\n",
    "        There two things should we notice:\n",
    "        1. The subclass of nn.Module must execute the construct function of \n",
    "           superclass in construct function.\n",
    "        2. torch.nn only support mini-batches, so we can't input one sample for one time,\n",
    "           like for nn.Conv2d in this net, the input must be 4-dimensional, like\n",
    "           nSamples * nChannels * Hight * width.\n",
    "           Of course, we can use input.unsqueeze(0) to set batch size to 1.\n",
    "        \"\"\"\n",
    "        super(Net, self).__init__()\n",
    "        \n",
    "        self.conv1 = nn.Conv2d(3, 6, 5)\n",
    "        self.conv2 = nn.Conv2d(6, 16, 5)\n",
    "        self.fc1 = nn.Linear(16*5*5, 120)\n",
    "        self.fc2 = nn.Linear(120, 84)\n",
    "        self.fc3 = nn.Linear(84, 10)\n",
    "        \n",
    "    def forward(self, x):\n",
    "        \"\"\"\n",
    "        once forward function is defined in subclass of nn.Module, \n",
    "        backward function will be implemented automatically by autograd\n",
    "        \"\"\"\n",
    "        \n",
    "        # convolution -> activation -> pooling\n",
    "        x = Func.max_pool2d(Func.relu(self.conv1(x)), (2, 2))\n",
    "        x = Func.max_pool2d(Func.relu(self.conv2(x)), 2)\n",
    "        x = x.view(x.size()[0], -1)    # reshape, -1 means self-adaption（自适应）\n",
    "        x = Func.relu(self.fc1(x))\n",
    "        x = Func.relu(self.fc2(x))\n",
    "        x = self.fc3(x)\n",
    "        return x\n",
    "    \n",
    "net = Net()\n",
    "print(net)"
   ]
  },
  {
   "cell_type": "code",
   "execution_count": 20,
   "metadata": {
    "ExecuteTime": {
     "end_time": "2019-01-23T12:39:00.661676Z",
     "start_time": "2019-01-23T12:39:00.657063Z"
    }
   },
   "outputs": [
    {
     "name": "stdout",
     "output_type": "stream",
     "text": [
      "conv1.weight : torch.Size([6, 3, 5, 5])\n",
      "conv1.bias : torch.Size([6])\n",
      "conv2.weight : torch.Size([16, 6, 5, 5])\n",
      "conv2.bias : torch.Size([16])\n",
      "fc1.weight : torch.Size([120, 400])\n",
      "fc1.bias : torch.Size([120])\n",
      "fc2.weight : torch.Size([84, 120])\n",
      "fc2.bias : torch.Size([84])\n",
      "fc3.weight : torch.Size([10, 84])\n",
      "fc3.bias : torch.Size([10])\n"
     ]
    }
   ],
   "source": [
    "for name,parameters in net.named_parameters():\n",
    "    print(name,':',parameters.size())"
   ]
  },
  {
   "cell_type": "markdown",
   "metadata": {},
   "source": [
    "## Define loss function and optimizer"
   ]
  },
  {
   "cell_type": "code",
   "execution_count": 21,
   "metadata": {
    "ExecuteTime": {
     "end_time": "2019-01-23T12:39:06.805840Z",
     "start_time": "2019-01-23T12:39:06.803003Z"
    }
   },
   "outputs": [],
   "source": [
    "criterion = nn.CrossEntropyLoss()\n",
    "optimizer = optim.SGD(net.parameters(), lr=0.001, momentum=0.9)"
   ]
  },
  {
   "cell_type": "markdown",
   "metadata": {},
   "source": [
    "## Network training"
   ]
  },
  {
   "cell_type": "markdown",
   "metadata": {},
   "source": [
    "All kinds of networks training are similar.  \n",
    "Proceed following steps repeatly.\n",
    "* Input data \n",
    "* forward & backward \n",
    "* update parameters"
   ]
  },
  {
   "cell_type": "code",
   "execution_count": 22,
   "metadata": {
    "ExecuteTime": {
     "end_time": "2019-01-23T12:40:18.012675Z",
     "start_time": "2019-01-23T12:39:08.508366Z"
    }
   },
   "outputs": [
    {
     "name": "stdout",
     "output_type": "stream",
     "text": [
      "[1, 2000] loss: 2.123044124662876\n",
      "[1, 4000] loss: 1.8038696492612363\n",
      "[1, 6000] loss: 1.6612129672467708\n",
      "[1, 8000] loss: 1.5795892687141895\n",
      "[1, 10000] loss: 1.5386991807222365\n",
      "[1, 12000] loss: 1.4893240099996328\n",
      "[2, 2000] loss: 1.415684333741665\n",
      "[2, 4000] loss: 1.3782200061678886\n",
      "[2, 6000] loss: 1.3667132899165153\n",
      "[2, 8000] loss: 1.3156589175760747\n",
      "[2, 10000] loss: 1.3157717502713204\n",
      "[2, 12000] loss: 1.2883637679964304\n",
      "Training finished.\n"
     ]
    }
   ],
   "source": [
    "t.set_num_threads(8)\n",
    "for epoch in range(2):\n",
    "    run_loss =0.0\n",
    "    for i, data in enumerate(trainloader, 0):\n",
    "        inputs, labels = data\n",
    "        \n",
    "        # 1. reset optimizer's gradiant\n",
    "        optimizer.zero_grad()    # same as net.zero_grad()\n",
    "        \n",
    "        # 2. forward + backward\n",
    "        outputs = net(inputs)\n",
    "        loss = criterion(outputs, labels)\n",
    "        loss.backward()   # update gradiant\n",
    "        \n",
    "        # 3. update parameters\n",
    "        optimizer.step()\n",
    "        \n",
    "        # print loss info\n",
    "        # loss is scalar, so we should use loss.item() to get its value, but not loss[0]\n",
    "        run_loss += loss.item()\n",
    "        if i%2000 == 1999:    # each 2000 batches, print training statement\n",
    "            print(f'[{epoch+1}, {i+1}] loss: {run_loss/2000}')   # average loss of 2000 batches\n",
    "            run_loss = 0.0\n",
    "            \n",
    "print('Training finished.')"
   ]
  },
  {
   "cell_type": "markdown",
   "metadata": {},
   "source": [
    "## Test network"
   ]
  },
  {
   "cell_type": "code",
   "execution_count": 24,
   "metadata": {
    "ExecuteTime": {
     "end_time": "2019-01-23T12:41:26.407839Z",
     "start_time": "2019-01-23T12:41:26.352919Z"
    }
   },
   "outputs": [
    {
     "name": "stdout",
     "output_type": "stream",
     "text": [
      "horse\t   car\t   frog\t   bird\n"
     ]
    },
    {
     "data": {
      "image/png": "[encoded data removed]",
      "text/plain": [
       "<PIL.Image.Image image mode=RGB size=400x100 at 0x140807080>"
      ]
     },
     "execution_count": 24,
     "metadata": {},
     "output_type": "execute_result"
    }
   ],
   "source": [
    "dataiter = iter(testloader)\n",
    "images, labels = dataiter.next()\n",
    "print('\\t   '.join([classes[lables[i]] for i in range(4)]))\n",
    "to_pil(tv.utils.make_grid((images+1)/2)).resize((400, 100))"
   ]
  },
  {
   "cell_type": "code",
   "execution_count": 27,
   "metadata": {
    "ExecuteTime": {
     "end_time": "2019-01-23T12:53:12.933081Z",
     "start_time": "2019-01-23T12:53:12.926827Z"
    }
   },
   "outputs": [
    {
     "name": "stdout",
     "output_type": "stream",
     "text": [
      "torch.Size([4, 10])\n",
      "Predict: plane\tdog\tbird\thorse\n",
      "tensor([[ 2.6792, -2.8278,  2.3237, -0.2902,  1.1985, -1.1576, -1.9321, -0.5394,\n",
      "          2.1376, -0.6986],\n",
      "        [-2.0768, -3.2867,  0.4575,  3.5394, -0.7521,  4.2574, -0.4095,  0.3753,\n",
      "         -1.2325, -2.4568],\n",
      "        [ 1.1144, -2.5009,  2.3113,  0.6499,  0.2988, -0.3057, -0.2399, -1.5053,\n",
      "          1.3938, -1.3418],\n",
      "        [-1.8068, -0.6194,  0.1362,  0.9249,  0.9755,  1.3911,  1.2056,  1.6934,\n",
      "         -2.6112, -0.1531]], grad_fn=<AddmmBackward>)\n"
     ]
    }
   ],
   "source": [
    "outputs = net(images)   # calculate each image's score on each class\n",
    "print(outputs.size())\n",
    "_, predicts = t.max(outputs.data, 1)  # apply the class with highest score\n",
    "s = '\\t'.join([classes[predicts[i]] for i in range(4)])\n",
    "print(f\"Predict: {s}\")"
   ]
  },
  {
   "cell_type": "code",
   "execution_count": 28,
   "metadata": {
    "ExecuteTime": {
     "end_time": "2019-01-23T12:56:35.596490Z",
     "start_time": "2019-01-23T12:56:32.921353Z"
    }
   },
   "outputs": [
    {
     "name": "stdout",
     "output_type": "stream",
     "text": [
      "Precision of 10000 images: 54%\n"
     ]
    }
   ],
   "source": [
    "correct, total = 0, 0\n",
    "\n",
    "# There is no need to make gradiant when testing, \n",
    "# so we could close autograd to increase the speed and save memory\n",
    "with t.no_grad():\n",
    "    for data in testloader:\n",
    "        images, labels = data\n",
    "        outputs = net(images)\n",
    "        _, predicts = t.max(outputs.data, 1)\n",
    "        total += labels.size()[0]\n",
    "        correct += (predicts == labels).sum()\n",
    "\n",
    "print(f'Precision of 10000 images: {100 * correct / total}%')"
   ]
  },
  {
   "cell_type": "markdown",
   "metadata": {},
   "source": [
    "## Train network on GPU"
   ]
  },
  {
   "cell_type": "code",
   "execution_count": 31,
   "metadata": {
    "ExecuteTime": {
     "end_time": "2019-01-23T12:58:46.595950Z",
     "start_time": "2019-01-23T12:58:46.593020Z"
    }
   },
   "outputs": [
    {
     "name": "stdout",
     "output_type": "stream",
     "text": [
      "cpu\n"
     ]
    }
   ],
   "source": [
    "s = 'cuda:0' if t.cuda.is_available() else 'cpu'\n",
    "print(s)"
   ]
  },
  {
   "cell_type": "code",
   "execution_count": 29,
   "metadata": {
    "ExecuteTime": {
     "end_time": "2019-01-23T12:58:13.551161Z",
     "start_time": "2019-01-23T12:58:13.547955Z"
    }
   },
   "outputs": [],
   "source": [
    "# Because it's ran on my mac, so gpu is not supported, it'll work on Google Colab\n",
    "device = t.device(s)\n",
    "\n",
    "net.to(device)\n",
    "images = images.to(device)\n",
    "labels = lables.to(device)\n",
    "output = net(images)\n",
    "loss= criterion(output,labels)\n",
    "\n",
    "loss"
   ]
  },
  {
   "cell_type": "code",
   "execution_count": null,
   "metadata": {},
   "outputs": [],
   "source": []
  }
 ],
 "metadata": {
  "kernelspec": {
   "display_name": "py36",
   "language": "python",
   "name": "py36"
  },
  "language_info": {
   "codemirror_mode": {
    "name": "ipython",
    "version": 3
   },
   "file_extension": ".py",
   "mimetype": "text/x-python",
   "name": "python",
   "nbconvert_exporter": "python",
   "pygments_lexer": "ipython3",
   "version": "3.6.3"
  },
  "latex_envs": {
   "LaTeX_envs_menu_present": true,
   "autoclose": false,
   "autocomplete": true,
   "bibliofile": "biblio.bib",
   "cite_by": "apalike",
   "current_citInitial": 1,
   "eqLabelWithNumbers": true,
   "eqNumInitial": 1,
   "hotkeys": {
    "equation": "Ctrl-E",
    "itemize": "Ctrl-I"
   },
   "labels_anchors": false,
   "latex_user_defs": false,
   "report_style_numbering": false,
   "user_envs_cfg": false
  },
  "toc": {
   "base_numbering": 1,
   "nav_menu": {},
   "number_sections": true,
   "sideBar": true,
   "skip_h1_title": false,
   "title_cell": "Table of Contents",
   "title_sidebar": "Contents",
   "toc_cell": false,
   "toc_position": {},
   "toc_section_display": true,
   "toc_window_display": false
  },
  "varInspector": {
   "cols": {
    "lenName": 16,
    "lenType": 16,
    "lenVar": 40
   },
   "kernels_config": {
    "python": {
     "delete_cmd_postfix": "",
     "delete_cmd_prefix": "del ",
     "library": "var_list.py",
     "varRefreshCmd": "print(var_dic_list())"
    },
    "r": {
     "delete_cmd_postfix": ") ",
     "delete_cmd_prefix": "rm(",
     "library": "var_list.r",
     "varRefreshCmd": "cat(var_dic_list()) "
    }
   },
   "types_to_exclude": [
    "module",
    "function",
    "builtin_function_or_method",
    "instance",
    "_Feature"
   ],
   "window_display": false
  }
 },
 "nbformat": 4,
 "nbformat_minor": 2
}
